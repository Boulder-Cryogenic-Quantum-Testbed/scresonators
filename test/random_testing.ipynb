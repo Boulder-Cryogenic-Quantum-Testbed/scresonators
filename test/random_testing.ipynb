{
 "cells": [
  {
   "cell_type": "code",
   "execution_count": 1,
   "metadata": {},
   "outputs": [],
   "source": [
    "import os\n",
    "import sys\n",
    "import matplotlib.pyplot as plt\n",
    "import numpy as np\n",
    "import pandas as pd\n",
    "import glob\n",
    "import lmfit\n",
    "\n",
    "# from bcqt-ctrl repo\n",
    "# import helper_functions as hf\n",
    "\n",
    "from pathlib import Path\n",
    "from time import sleep, time\n",
    "# from tqdm.auto import tqdm\n",
    "\n",
    "%load_ext autoreload\n",
    "%autoreload 2"
   ]
  },
  {
   "cell_type": "code",
   "execution_count": 2,
   "metadata": {},
   "outputs": [
    {
     "name": "stdout",
     "output_type": "stream",
     "text": [
      "9.0\n",
      "1000000000.0\n"
     ]
    }
   ],
   "source": [
    "freqs_Hz = np.linspace(9.9e9, 10e9, 50)\n",
    "\n",
    "freq_order = np.floor(np.log10(np.mean(freqs_Hz)))\n",
    "print(freq_order)\n",
    "freq_factor = 10 ** (freq_order)\n",
    "print(freq_factor)"
   ]
  }
 ],
 "metadata": {
  "kernelspec": {
   "display_name": "dynamic_fitting",
   "language": "python",
   "name": "python3"
  },
  "language_info": {
   "codemirror_mode": {
    "name": "ipython",
    "version": 3
   },
   "file_extension": ".py",
   "mimetype": "text/x-python",
   "name": "python",
   "nbconvert_exporter": "python",
   "pygments_lexer": "ipython3",
   "version": "3.12.4"
  }
 },
 "nbformat": 4,
 "nbformat_minor": 2
}
