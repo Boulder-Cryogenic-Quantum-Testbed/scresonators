{
 "cells": [
  {
   "cell_type": "code",
   "execution_count": 1,
   "metadata": {},
   "outputs": [],
   "source": [
    "import os\n",
    "import sys\n",
    "import matplotlib.pyplot as plt\n",
    "import numpy as np\n",
    "import pandas as pd\n",
    "import glob\n",
    "import lmfit\n",
    "\n",
    "# from bcqt-ctrl repo\n",
    "# import helper_functions as hf\n",
    "\n",
    "from pathlib import Path\n",
    "from time import sleep, time\n",
    "# from tqdm.auto import tqdm\n",
    "\n",
    "%load_ext autoreload\n",
    "%autoreload 2"
   ]
  },
  {
   "cell_type": "code",
   "execution_count": 8,
   "metadata": {},
   "outputs": [
    {
     "name": "stdout",
     "output_type": "stream",
     "text": [
      "[5.85995747e+09 5.86000796e+09 5.86001176e+09 5.86001340e+09\n",
      " 5.86001451e+09 5.86001549e+09 5.86001660e+09 5.86001824e+09\n",
      " 5.86002204e+09 5.86007253e+09] \n",
      " 0   -0.007584-0.002081j\n",
      "1   -0.008071-0.000061j\n",
      "2   -0.006975+0.001866j\n",
      "3   -0.004853+0.002437j\n",
      "4   -0.003053+0.001460j\n",
      "5   -0.002346-0.000217j\n",
      "6   -0.002734-0.001863j\n",
      "7   -0.003925-0.002980j\n",
      "8   -0.005551-0.003269j\n",
      "9   -0.007191-0.002524j\n",
      "Name: dBm, dtype: complex128\n"
     ]
    }
   ],
   "source": [
    "# only S21 dBm has factor of 20, otherwise it'd be a factor of 10\n",
    "# this is because P = V^2/R, so the V^2 gives an extra factor of 2\n",
    "\n",
    "def s21_dbm_to_lin(dbm_ampl):\n",
    "    return np.log10(dbm_ampl) * 20  \n",
    "\n",
    "def s21_lin_to_dbm(lin_ampl):\n",
    "    return 10**(lin_ampl/20)\n",
    "\n",
    "def load_csv(path):\n",
    "    \n",
    "    # Load the CSV file into a pandas DataFrame\n",
    "    df = pd.read_csv(path)\n",
    "    freqs = df['# Freq'].to_numpy()\n",
    "    amps = df['dB'].to_numpy()\n",
    "    phases_init = df['Ang'].to_numpy()\n",
    "\n",
    "    max_phase_value = np.max(phases_init)\n",
    "    min_phase_value = np.min(phases_init)\n",
    "    if (max_phase_value > 2 * np.pi) or (min_phase_value < -2 * np.pi): #check if phases are in degrees or radians, convert as needed\n",
    "        #phases are in degrees, we need to convert\n",
    "        phases_new = np.unwrap(np.deg2rad(phases_init))\n",
    "    else:\n",
    "        #phases are in radians, good to go\n",
    "        phases_new = np.unwrap(phases_init)\n",
    "\n",
    "    return freqs, amps, phases_new\n",
    "\n",
    "def load_all_csvs_in_path(path, key='*', idx=None):\n",
    "    \"\"\"AI is creating summary for load_all_csvs_in_path\n",
    "\n",
    "    Args:\n",
    "        path ([type]): [description]\n",
    "        key (str, optional): [description]. Defaults to '*'.\n",
    "        idx ([type], optional): [description]. Defaults to None.\n",
    "\n",
    "    Returns:\n",
    "        [type]: [description]\n",
    "    \"\"\"\n",
    "    data_files = glob.glob(data_dir+chosen_files)\n",
    "    \n",
    "    if idx is not None:  # user wants to load a single file from dir\n",
    "        idx = 0 if len(data_files) == 1 else idx  # set idx to 0 if there's only one file\n",
    "        file = data_files[idx]\n",
    "        df = pd.read_csv(file, sep=\",\", names=['Frequency','dBm','Phase'])\n",
    "        freq = np.array(df['Frequency'])\n",
    "        ampl = s21_lin_to_dbm(df['dBm'])\n",
    "        phase = np.unwrap(np.deg2rad(df['Phase']))\n",
    "        cmplx = ampl * np.exp(1j*phase)\n",
    "        \n",
    "        return freq, cmplx, df\n",
    "    \n",
    "    elif idx is None and len(data_files) != 1:  \n",
    "        freq_dict, cmplx_dict, df_dict = {}, {}, {}\n",
    "        for filepath in data_files:\n",
    "            filename = os.path.basename(filepath)\n",
    "            df = pd.read_csv(filepath, sep=\",\", names=['Frequency','dBm','Phase'])\n",
    "            freq = np.array(df['Frequency'])\n",
    "            ampl = s21_lin_to_dbm(df['dBm'])\n",
    "            phase = np.unwrap(np.deg2rad(df['Phase']))\n",
    "            cmplx = ampl * np.exp(1j*phase)\n",
    "            \n",
    "            freq_dict[filename] = freq\n",
    "            cmplx_dict[filename] = cmplx\n",
    "            df_dict[filename] = df\n",
    "            \n",
    "        return freq_dict, cmplx_dict, df_dict\n",
    "        \n",
    "    else:\n",
    "        # idx is None and len(data_files) == 1\n",
    "        print(f\"idx={idx}, len(data_files)={len(data_files)}\\n failed if & elif\")\n",
    "        raise\n",
    "        \n",
    "\n",
    "# load data from sample directory\n",
    "data_path = 'test_data/sample_data.csv'\n",
    "chosen_files = '*'\n",
    "# display(glob.glob(data_dir+chosen_files))\n",
    "freq, cmplx, df = load_all_csvs_in_path(data_path, chosen_files, idx=1)\n",
    "\n",
    "print(freq, \"\\n\", cmplx)\n"
   ]
  },
  {
   "cell_type": "markdown",
   "metadata": {},
   "source": [
    "## Testing scresonators"
   ]
  },
  {
   "cell_type": "code",
   "execution_count": 14,
   "metadata": {},
   "outputs": [
    {
     "name": "stdout",
     "output_type": "stream",
     "text": [
      "c:\\Users\\zachm\\OneDrive\\Documents\\GitHub\\zachmiles9\\scresonators\\test\n",
      "\n",
      "imported scresonators!\n",
      "\n",
      "showing dir(src.fit_methods.dcm)\n"
     ]
    },
    {
     "data": {
      "text/plain": [
       "['DCM', 'FitMethod', 'find_circle', 'lmfit', 'np']"
      ]
     },
     "metadata": {},
     "output_type": "display_data"
    },
    {
     "name": "stdout",
     "output_type": "stream",
     "text": [
      "showing dir(src.fit_methods.dcm.DCM)\n"
     ]
    },
    {
     "data": {
      "text/plain": [
       "['_abc_impl', 'create_model', 'find_initial_guess', 'func']"
      ]
     },
     "metadata": {},
     "output_type": "display_data"
    },
    {
     "name": "stderr",
     "output_type": "stream",
     "text": [
      "ERROR:root:Error during optimization: setting an array element with a sequence. The requested array has an inhomogeneous shape after 1 dimensions. The detected shape was (4,) + inhomogeneous part.\n"
     ]
    },
    {
     "name": "stdout",
     "output_type": "stream",
     "text": [
      "Name     Value      Min      Max   Stderr     Vary     Expr Brute_Step\n",
      "Q       1e+06     1000    1e+09     None     True     None     None\n",
      "Qc      1e+05     1000    1e+09     None     True     None     None\n",
      "phi      0.08   -1.571    1.571     None     True     None     None\n",
      "w1   5.86e+09 5.86e+09 5.86e+09     None     True     None     None\n",
      "\n"
     ]
    },
    {
     "ename": "ValueError",
     "evalue": "setting an array element with a sequence. The requested array has an inhomogeneous shape after 1 dimensions. The detected shape was (4,) + inhomogeneous part.",
     "output_type": "error",
     "traceback": [
      "\u001b[1;31m---------------------------------------------------------------------------\u001b[0m",
      "\u001b[1;31mValueError\u001b[0m                                Traceback (most recent call last)",
      "Cell \u001b[1;32mIn[14], line 51\u001b[0m\n\u001b[0;32m     48\u001b[0m db_amps \u001b[38;5;241m=\u001b[39m np\u001b[38;5;241m.\u001b[39mlog10(amps) \u001b[38;5;241m*\u001b[39m \u001b[38;5;241m20\u001b[39m\n\u001b[0;32m     50\u001b[0m phases \u001b[38;5;241m=\u001b[39m np\u001b[38;5;241m.\u001b[39mangle(cmplx)\n\u001b[1;32m---> 51\u001b[0m result, conf_intervals \u001b[38;5;241m=\u001b[39m \u001b[43mFitRes\u001b[49m\u001b[38;5;241;43m.\u001b[39;49m\u001b[43mfit\u001b[49m\u001b[43m(\u001b[49m\u001b[43mfreq\u001b[49m\u001b[43m,\u001b[49m\u001b[43m \u001b[49m\u001b[43mdb_amps\u001b[49m\u001b[43m,\u001b[49m\u001b[43m \u001b[49m\u001b[43mphases\u001b[49m\u001b[43m,\u001b[49m\u001b[43m \u001b[49m\u001b[43mmanual_init\u001b[49m\u001b[38;5;241;43m=\u001b[39;49m\u001b[43minit_params\u001b[49m\u001b[43m,\u001b[49m\u001b[43m \u001b[49m\u001b[43mverbose\u001b[49m\u001b[38;5;241;43m=\u001b[39;49m\u001b[38;5;28;43;01mTrue\u001b[39;49;00m\u001b[43m)\u001b[49m\n\u001b[0;32m     53\u001b[0m fit_result_params \u001b[38;5;241m=\u001b[39m result\u001b[38;5;241m.\u001b[39mparams\n",
      "File \u001b[1;32mc:\\Users\\zachm\\OneDrive\\Documents\\GitHub\\zachmiles9\\scresonators\\src\\fitter.py:39\u001b[0m, in \u001b[0;36mFitter.fit\u001b[1;34m(self, freqs, amps, phases, manual_init, verbose)\u001b[0m\n\u001b[0;32m     37\u001b[0m     ydata \u001b[38;5;241m=\u001b[39m \u001b[38;5;28mself\u001b[39m\u001b[38;5;241m.\u001b[39mbackground_removal(ydata)\n\u001b[0;32m     38\u001b[0m \u001b[38;5;28;01melif\u001b[39;00m \u001b[38;5;28mself\u001b[39m\u001b[38;5;241m.\u001b[39mpreprocess \u001b[38;5;241m==\u001b[39m \u001b[38;5;124m\"\u001b[39m\u001b[38;5;124mcircle\u001b[39m\u001b[38;5;124m\"\u001b[39m:\n\u001b[1;32m---> 39\u001b[0m     ydata \u001b[38;5;241m=\u001b[39m \u001b[38;5;28;43mself\u001b[39;49m\u001b[38;5;241;43m.\u001b[39;49m\u001b[43mpreprocess_circle\u001b[49m\u001b[43m(\u001b[49m\u001b[43mxdata\u001b[49m\u001b[43m,\u001b[49m\u001b[43m \u001b[49m\u001b[43mydata\u001b[49m\u001b[43m)\u001b[49m\n\u001b[0;32m     40\u001b[0m \u001b[38;5;28;01melif\u001b[39;00m \u001b[38;5;28mself\u001b[39m\u001b[38;5;241m.\u001b[39mpreprocess \u001b[38;5;241m==\u001b[39m \u001b[38;5;124m\"\u001b[39m\u001b[38;5;124mlinear\u001b[39m\u001b[38;5;124m\"\u001b[39m:\n\u001b[0;32m     41\u001b[0m     \u001b[38;5;66;03m# TODO: implement\u001b[39;00m\n\u001b[0;32m     42\u001b[0m     \u001b[38;5;66;03m# ydata, _, _, _, _ = self.preprocess_linear(xdata, ydata, self.normalize)\u001b[39;00m\n\u001b[0;32m     43\u001b[0m     \u001b[38;5;28;01mpass\u001b[39;00m\n",
      "File \u001b[1;32mc:\\Users\\zachm\\OneDrive\\Documents\\GitHub\\zachmiles9\\scresonators\\src\\fitter.py:105\u001b[0m, in \u001b[0;36mFitter.preprocess_circle\u001b[1;34m(self, xdata, ydata)\u001b[0m\n\u001b[0;32m     93\u001b[0m \u001b[38;5;250m\u001b[39m\u001b[38;5;124;03m\"\"\"\u001b[39;00m\n\u001b[0;32m     94\u001b[0m \u001b[38;5;124;03mData Preprocessing using Probst method for cable delay removal and normalization.\u001b[39;00m\n\u001b[0;32m     95\u001b[0m \n\u001b[1;32m   (...)\u001b[0m\n\u001b[0;32m    101\u001b[0m \u001b[38;5;124;03m    np.ndarray: The preprocessed and normalized complex S21 data.\u001b[39;00m\n\u001b[0;32m    102\u001b[0m \u001b[38;5;124;03m\"\"\"\u001b[39;00m\n\u001b[0;32m    104\u001b[0m \u001b[38;5;66;03m# Remove cable delay\u001b[39;00m\n\u001b[1;32m--> 105\u001b[0m delay \u001b[38;5;241m=\u001b[39m \u001b[38;5;28;43mself\u001b[39;49m\u001b[38;5;241;43m.\u001b[39;49m\u001b[43mfit_delay\u001b[49m\u001b[43m(\u001b[49m\u001b[43mxdata\u001b[49m\u001b[43m,\u001b[49m\u001b[43m \u001b[49m\u001b[43mydata\u001b[49m\u001b[43m)\u001b[49m\n\u001b[0;32m    106\u001b[0m z_data \u001b[38;5;241m=\u001b[39m ydata \u001b[38;5;241m*\u001b[39m np\u001b[38;5;241m.\u001b[39mexp(\u001b[38;5;241m2\u001b[39mj \u001b[38;5;241m*\u001b[39m np\u001b[38;5;241m.\u001b[39mpi \u001b[38;5;241m*\u001b[39m delay \u001b[38;5;241m*\u001b[39m xdata)\n\u001b[0;32m    108\u001b[0m \u001b[38;5;66;03m# Calibrate and normalize\u001b[39;00m\n",
      "File \u001b[1;32mc:\\Users\\zachm\\OneDrive\\Documents\\GitHub\\zachmiles9\\scresonators\\src\\fitter.py:338\u001b[0m, in \u001b[0;36mFitter.fit_delay\u001b[1;34m(self, xdata, ydata)\u001b[0m\n\u001b[0;32m    336\u001b[0m xc, yc, _ \u001b[38;5;241m=\u001b[39m find_circle(np\u001b[38;5;241m.\u001b[39mreal(ydata), np\u001b[38;5;241m.\u001b[39mimag(ydata))\n\u001b[0;32m    337\u001b[0m z_data \u001b[38;5;241m=\u001b[39m ydata \u001b[38;5;241m-\u001b[39m \u001b[38;5;28mcomplex\u001b[39m(xc, yc)\n\u001b[1;32m--> 338\u001b[0m fr, Ql, theta, delay \u001b[38;5;241m=\u001b[39m \u001b[38;5;28;43mself\u001b[39;49m\u001b[38;5;241;43m.\u001b[39;49m\u001b[43mfit_phase\u001b[49m\u001b[43m(\u001b[49m\u001b[43mxdata\u001b[49m\u001b[43m,\u001b[49m\u001b[43m \u001b[49m\u001b[43mz_data\u001b[49m\u001b[43m)\u001b[49m\n\u001b[0;32m    340\u001b[0m \u001b[38;5;66;03m# Iterative refinement of delay\u001b[39;00m\n\u001b[0;32m    341\u001b[0m delay \u001b[38;5;241m*\u001b[39m\u001b[38;5;241m=\u001b[39m \u001b[38;5;241m0.05\u001b[39m\n",
      "File \u001b[1;32mc:\\Users\\zachm\\OneDrive\\Documents\\GitHub\\zachmiles9\\scresonators\\src\\fitter.py:249\u001b[0m, in \u001b[0;36mFitter.fit_phase\u001b[1;34m(self, f_data, z_data, guesses)\u001b[0m\n\u001b[0;32m    246\u001b[0m theta_guess \u001b[38;5;241m=\u001b[39m \u001b[38;5;241m0.5\u001b[39m \u001b[38;5;241m*\u001b[39m (np\u001b[38;5;241m.\u001b[39mmean(phase[:\u001b[38;5;241m5\u001b[39m]) \u001b[38;5;241m+\u001b[39m np\u001b[38;5;241m.\u001b[39mmean(phase[\u001b[38;5;241m-\u001b[39m\u001b[38;5;241m5\u001b[39m:]))\n\u001b[0;32m    248\u001b[0m \u001b[38;5;66;03m# Sequential fitting process\u001b[39;00m\n\u001b[1;32m--> 249\u001b[0m p_final \u001b[38;5;241m=\u001b[39m \u001b[38;5;28;43mself\u001b[39;49m\u001b[38;5;241;43m.\u001b[39;49m\u001b[43m_sequential_fitting\u001b[49m\u001b[43m(\u001b[49m\u001b[43mf_data\u001b[49m\u001b[43m,\u001b[49m\u001b[43m \u001b[49m\u001b[43mphase\u001b[49m\u001b[43m,\u001b[49m\u001b[43m \u001b[49m\u001b[43mfr_guess\u001b[49m\u001b[43m,\u001b[49m\u001b[43m \u001b[49m\u001b[43mQl_guess\u001b[49m\u001b[43m,\u001b[49m\u001b[43m \u001b[49m\u001b[43mtheta_guess\u001b[49m\u001b[43m,\u001b[49m\u001b[43m \u001b[49m\u001b[43mdelay_guess\u001b[49m\u001b[43m)\u001b[49m\n\u001b[0;32m    251\u001b[0m \u001b[38;5;28;01mreturn\u001b[39;00m p_final\n",
      "File \u001b[1;32mc:\\Users\\zachm\\OneDrive\\Documents\\GitHub\\zachmiles9\\scresonators\\src\\fitter.py:294\u001b[0m, in \u001b[0;36mFitter._sequential_fitting\u001b[1;34m(self, f_data, phase, fr_guess, Ql_guess, theta_guess, delay_guess)\u001b[0m\n\u001b[0;32m    292\u001b[0m \u001b[38;5;66;03m# Final optimization for all parameters together\u001b[39;00m\n\u001b[0;32m    293\u001b[0m \u001b[38;5;28;01mtry\u001b[39;00m:\n\u001b[1;32m--> 294\u001b[0m     all_params_initial \u001b[38;5;241m=\u001b[39m \u001b[43mnp\u001b[49m\u001b[38;5;241;43m.\u001b[39;49m\u001b[43marray\u001b[49m\u001b[43m(\u001b[49m\u001b[43m[\u001b[49m\u001b[43mfr_guess\u001b[49m\u001b[43m,\u001b[49m\u001b[43m \u001b[49m\u001b[43mQl_guess\u001b[49m\u001b[43m,\u001b[49m\u001b[43m \u001b[49m\u001b[43mtheta_guess\u001b[49m\u001b[43m,\u001b[49m\u001b[43m \u001b[49m\u001b[43mdelay_guess\u001b[49m\u001b[43m]\u001b[49m\u001b[43m,\u001b[49m\u001b[43m \u001b[49m\u001b[43mdtype\u001b[49m\u001b[38;5;241;43m=\u001b[39;49m\u001b[43mnp\u001b[49m\u001b[38;5;241;43m.\u001b[39;49m\u001b[43mfloat64\u001b[49m\u001b[43m)\u001b[49m\n\u001b[0;32m    295\u001b[0m     p_final \u001b[38;5;241m=\u001b[39m spopt\u001b[38;5;241m.\u001b[39mleastsq(residuals_final, all_params_initial)[\u001b[38;5;241m0\u001b[39m]\n\u001b[0;32m    296\u001b[0m \u001b[38;5;28;01mexcept\u001b[39;00m \u001b[38;5;167;01mException\u001b[39;00m \u001b[38;5;28;01mas\u001b[39;00m e:\n",
      "\u001b[1;31mValueError\u001b[0m: setting an array element with a sequence. The requested array has an inhomogeneous shape after 1 dimensions. The detected shape was (4,) + inhomogeneous part."
     ]
    }
   ],
   "source": [
    "cur_dir = os.getcwd()\n",
    "parent_parent_dir = os.path.dirname(os.path.dirname(cur_dir))\n",
    "\n",
    "#For Zach\n",
    "# this notebook is located in C:/Users/zachm/OneDrive/Documents/GitHub/zachmiles9/scresonators/test\n",
    "# so the parent's parent directory is C:/Users/zachm/OneDrive/Documents/GitHub/zachmiles9\n",
    "# and by adding that to our path, we can import C:/Users/zachm/OneDrive/Documents/GitHub/zachmiles9\n",
    "\n",
    "#For Jorge\n",
    "# this notebook is located in E:/GitHub/scresonators/test_ontebooks\n",
    "# so the parent's parent directory is just E:/GitHub\n",
    "# and by adding that to our path, we can import E:/GitHub/scresonators\n",
    "sys.path.append(parent_parent_dir)\n",
    "print(os.getcwd())\n",
    "\n",
    "import scresonators.src as scres\n",
    "print(\"\\nimported scresonators!\\n\")\n",
    "\n",
    "\n",
    "def print_dir(module, filter_underscore=True, text=\"\"):\n",
    "    if filter_underscore == True:\n",
    "        print(\"showing dir({})\".format(text))\n",
    "        display( [i for i in dir(module) if '__' not in i] )\n",
    "    else:\n",
    "        print(\"showing dir({})\".format(text))\n",
    "        display( dir(module) )\n",
    "\n",
    "\n",
    "print_dir(scres.fit_methods.dcm, True, \"src.fit_methods.dcm\")\n",
    "print_dir(scres.fit_methods.dcm.DCM, True, \"src.fit_methods.dcm.DCM\")\n",
    "\n",
    "dcm_method = scres.fit_methods.dcm.DCM()\n",
    "FitRes = scres.Fitter(dcm_method)\n",
    "\n",
    "w1 = freq[np.abs(cmplx).argmin()]\n",
    "init_guess = {\n",
    "    'Q' : {'value' : 1e6, 'min' : 1e3, 'max' : 1e9},\n",
    "    'Qc' : {'value' : 1e5, 'min' : 1e3, 'max' : 1e9},\n",
    "    'w1' : {'value' : w1, 'min' : w1-3e3, 'max' : w1+3e3, 'vary' : True},\n",
    "    'phi' : {'value' : 0.08, 'min' : -np.pi/2, 'max' : np.pi/2}, \n",
    "}\n",
    "\n",
    "init_params = lmfit.create_params(**init_guess)\n",
    "init_params.pretty_print()\n",
    "print()\n",
    "\n",
    "amps = np.abs(cmplx)\n",
    "db_amps = np.log10(amps) * 20\n",
    "\n",
    "phases = np.angle(cmplx)\n",
    "result, conf_intervals = FitRes.fit(freq, db_amps, phases, manual_init=init_params, verbose=True)\n",
    "\n",
    "fit_result_params = result.params\n"
   ]
  },
  {
   "cell_type": "code",
   "execution_count": null,
   "metadata": {},
   "outputs": [],
   "source": [
    "fit_result_params.pretty_print()\n",
    "\n",
    "y_fit = result.eval(params=fit_result_params, x=freq)\n",
    "# y_fit_err = result.eval_uncertainty()\n",
    "Q_val = fit_result_params[\"Q\"].value\n",
    "Q_err = fit_result_params[\"Q\"].stderr\n",
    "dQ = 100 * Q_err/Q_val\n",
    "print(dQ, Q_val, Q_err)\n",
    "\n",
    "print(\"\\nabs(data): \", np.abs(cmplx))\n",
    "print(\"abs(result): \", np.abs(y_fit))\n",
    "\n",
    "##########################################\n",
    "#############    plotting   ##############\n",
    "##########################################\n",
    "\n",
    "mosaic = \"AAAA\\n BBCC\"\n",
    "fig, axes = plt.subplot_mosaic(mosaic, figsize=(7,8))\n",
    "ax1, ax2, ax3 = axes[\"A\"], axes[\"B\"], axes[\"C\"]\n",
    "\n",
    "ax1.plot(freq, np.abs(cmplx), label=\"Data\")\n",
    "ax1.plot(freq, np.abs(y_fit), label=\"Fit\")\n",
    "ax1.set_yscale(\"log\")\n",
    "ax1.legend()\n",
    "ax1.set_title(\"S21 Magnitude\")\n",
    "\n",
    "ax2.plot(np.real(cmplx), np.imag(cmplx), label=\"Data\", linestyle='', marker='o')\n",
    "ax2.set_title(\"Data\")\n",
    "\n",
    "ax3.plot(np.real(y_fit), np.imag(y_fit), label=\"Fit\", linestyle='', marker='o', color='orange')\n",
    "ax3.set_title(\"Fit Result\")\n",
    "\n",
    "\n",
    "fig.tight_layout()"
   ]
  },
  {
   "cell_type": "markdown",
   "metadata": {},
   "source": [
    "## Multiple Resonators\n",
    "\n",
    "to be implemented"
   ]
  },
  {
   "cell_type": "code",
   "execution_count": null,
   "metadata": {},
   "outputs": [],
   "source": [
    "# # load data from Andre\n",
    "# data_dir = './samples/R0_Jorge/'\n",
    "# chosen_files = '*'\n",
    "\n",
    "# freq_dict, cmplx_dict = load_csv(data_dir, chosen_files, idx=None)\n",
    "\n",
    "# dQ_list, Q_list = [], []\n",
    "\n",
    "# print(f\"# of resonators: {len(freq_dict)}\")\n",
    "\n",
    "# for freq, cmplx in zip(freq_dict.values(), cmplx_dict.values()):\n",
    "\n",
    "#     FitRes = scres.Fitter(scres.fit_methods.DCM)\n",
    "\n",
    "#     w1 = freq[np.abs(cmplx).argmin()]\n",
    "#     init_guess = {\n",
    "#         'Q' : {'value' : 1e6, 'min' : 1e3, 'max' : 1e9},\n",
    "#         'Qc' : {'value' : 1e5, 'min' : 1e3, 'max' : 1e9},\n",
    "#         'w1' : {'value' : w1, 'min' : w1-3e3, 'max' : w1+3e3, 'vary' : True},\n",
    "#         'phi' : {'value' : 0.08, 'min' : -np.pi/2, 'max' : np.pi/2}, \n",
    "#     }\n",
    "\n",
    "#     init_params = lmfit.create_params(**init_guess)\n",
    "\n",
    "#     amps = np.abs(cmplx)\n",
    "#     db_amps = np.log10(amps) * 20\n",
    "\n",
    "#     phases = np.angle(cmplx)\n",
    "#     result, conf_intervals = FitRes.fit(freq, db_amps, phases, manual_init=init_params, verbose=True)\n",
    "\n",
    "#     fit_params = result.params\n",
    "        \n",
    "#     y_fit = result.eval(params=fit_params, x=freq)\n",
    "#     # y_fit_err = result.eval_uncertainty()\n",
    "#     Q_val = fit_params[\"Q\"].value\n",
    "#     Q_err = fit_params[\"Q\"].stderr\n",
    "#     dQ = 100 * Q_err/Q_val\n",
    "#     print(dQ, Q_val, Q_err)\n",
    "    \n",
    "#     dQ_list.append(dQ)\n",
    "#     Q_list.append(Q_val)\n",
    "\n",
    "\n",
    "    "
   ]
  },
  {
   "cell_type": "code",
   "execution_count": null,
   "metadata": {},
   "outputs": [],
   "source": [
    "# for dQ, Q in zip(dQ_list, Q_list):\n",
    "    \n",
    "#     print(f\"{dQ:1.2f}, {Q:1.2f}\")\n",
    "\n",
    "# fig, axes = plt.subplots(2,1, figsize=(7,8), sharex=True)\n",
    "# ax1, ax2 = axes[0], axes[1]\n",
    "\n",
    "# ax1.plot(dQ_list, 'ro', label=\"dQ\")\n",
    "# ax1.set_title(r\"dQ Values  ($dQ=100 * dQ/\\sigma dQ$)\")\n",
    "\n",
    "# ax2.plot(Q_list, 'bo', label=\"Fit\")\n",
    "# ax2.set_title(\"Q Values\")\n",
    "\n",
    "# ax2.set_xlabel(\"Resonator #\")"
   ]
  }
 ],
 "metadata": {
  "kernelspec": {
   "display_name": "dynamic_fitting",
   "language": "python",
   "name": "python3"
  },
  "language_info": {
   "codemirror_mode": {
    "name": "ipython",
    "version": 3
   },
   "file_extension": ".py",
   "mimetype": "text/x-python",
   "name": "python",
   "nbconvert_exporter": "python",
   "pygments_lexer": "ipython3",
   "version": "3.9.19"
  }
 },
 "nbformat": 4,
 "nbformat_minor": 2
}
