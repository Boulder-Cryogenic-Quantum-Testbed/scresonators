{
 "cells": [
  {
   "cell_type": "code",
   "execution_count": 1,
   "metadata": {},
   "outputs": [],
   "source": [
    "import os\n",
    "import sys\n",
    "import matplotlib.pyplot as plt\n",
    "import numpy as np\n",
    "import pandas as pd\n",
    "import glob\n",
    "import lmfit\n",
    "\n",
    "# from bcqt-ctrl repo\n",
    "# import helper_functions as hf\n",
    "\n",
    "from pathlib import Path\n",
    "from time import sleep, time\n",
    "# from tqdm.auto import tqdm\n",
    "\n",
    "%load_ext autoreload\n",
    "%autoreload 2"
   ]
  },
  {
   "cell_type": "code",
   "execution_count": 2,
   "metadata": {},
   "outputs": [
    {
     "name": "stdout",
     "output_type": "stream",
     "text": [
      "[ 4.     4.002  4.004 ... 19.996 19.998 20.   ]\n",
      "[-87.335502 -87.326395 -87.317292 ... -59.525629 -59.524005 -59.522381]\n",
      "[-2.89818939 -2.89838416 -2.89857859 ... -3.47912607 -3.47917005\n",
      " -3.47921386]\n",
      "[ 4.     4.002  4.004 ... 19.996 19.998 20.   ] \n",
      " [84.76114707+21.04846448j 84.75640627+21.02976128j\n",
      " 84.75165795+21.01109127j ... 56.16685799-19.71254858j\n",
      " 56.16445859-19.71448103j 56.16206257-19.71640352j]\n"
     ]
    }
   ],
   "source": [
    "# only S21 dBm has factor of 20, otherwise it'd be a factor of 10\n",
    "# this is because P = V^2/R, so the V^2 gives an extra factor of 2\n",
    "\n",
    "def s21_dbm_to_lin(dbm_ampl):\n",
    "    return np.log10(dbm_ampl) * 20  \n",
    "\n",
    "def s21_lin_to_dbm(lin_ampl):\n",
    "    return 10**(lin_ampl/20)\n",
    "\n",
    "def load_csv(path):\n",
    "    \n",
    "    # Load the CSV file into a pandas DataFrame\n",
    "    df = pd.read_csv(path)\n",
    "    freqs = df['# Freq'].to_numpy()\n",
    "    amps = df['dB'].to_numpy()\n",
    "    phases_init = df['Ang'].to_numpy()\n",
    "\n",
    "    max_phase_value = np.max(phases_init)\n",
    "    min_phase_value = np.min(phases_init)\n",
    "    if (max_phase_value > 2 * np.pi) or (min_phase_value < -2 * np.pi): #check if phases are in degrees or radians, convert as needed\n",
    "        #phases are in degrees, we need to convert\n",
    "        phases_new = np.unwrap(np.deg2rad(phases_init))\n",
    "    else:\n",
    "        #phases are in radians, good to go\n",
    "        phases_new = np.unwrap(phases_init)\n",
    "\n",
    "    return freqs, amps, phases_new\n",
    "\n",
    "def load_all_csvs_in_path(path, key='*', idx=None):\n",
    "    \"\"\"AI is creating summary for load_all_csvs_in_path\n",
    "\n",
    "    Args:\n",
    "        path ([type]): [description]\n",
    "        key (str, optional): [description]. Defaults to '*'.\n",
    "        idx ([type], optional): [description]. Defaults to None.\n",
    "\n",
    "    Returns:\n",
    "        [type]: [description]\n",
    "    \"\"\"\n",
    "    data_files = glob.glob(data_dir+chosen_files)\n",
    "    \n",
    "    if idx is not None:  # user wants to load a single file from dir\n",
    "        idx = 0 if len(data_files) == 1 else idx  # set idx to 0 if there's only one file\n",
    "        file = data_files[idx]\n",
    "        df = pd.read_csv(file, sep=\",\", names=['Frequency','dBm','Phase'])\n",
    "        freq = np.array(df['Frequency'])\n",
    "        ampl = s21_lin_to_dbm(df['dBm'])\n",
    "        phase = np.unwrap(np.deg2rad(df['Phase']))\n",
    "        cmplx = ampl * np.exp(1j*phase)\n",
    "        \n",
    "        return freq, cmplx, df\n",
    "    \n",
    "    elif idx is None and len(data_files) != 1:  \n",
    "        freq_dict, cmplx_dict, df_dict = {}, {}, {}\n",
    "        for filepath in data_files:\n",
    "            filename = os.path.basename(filepath)\n",
    "            df = pd.read_csv(filepath, sep=\",\", names=['Frequency','dBm','Phase'])\n",
    "            freq = np.array(df['Frequency'])\n",
    "            ampl = s21_lin_to_dbm(df['dBm'])\n",
    "            phase = np.unwrap(np.deg2rad(df['Phase']))\n",
    "            cmplx = ampl * np.exp(1j*phase)\n",
    "            \n",
    "            freq_dict[filename] = freq\n",
    "            cmplx_dict[filename] = cmplx\n",
    "            df_dict[filename] = df\n",
    "            \n",
    "        return freq_dict, cmplx_dict, df_dict\n",
    "        \n",
    "    else:\n",
    "        # idx is None and len(data_files) == 1\n",
    "        print(f\"idx={idx}, len(data_files)={len(data_files)}\\n failed if & elif\")\n",
    "        raise\n",
    "        \n",
    "def preprocess_csv(file_path):\n",
    "    \"\"\"\n",
    "    Preprocess a CSV file into a DataFrame. The CSV file is read starting from line 6,\n",
    "    and the data in the first column is separated into respective columns by spaces.\n",
    "\n",
    "    Parameters:\n",
    "    file_path (str): Path to the input CSV file.\n",
    "\n",
    "    Returns:\n",
    "    pd.DataFrame: Preprocessed DataFrame with separated columns.\n",
    "    \"\"\"\n",
    "    # Read the CSV file starting from line 6\n",
    "    with open(file_path, 'r') as file:\n",
    "        lines = file.readlines()\n",
    "\n",
    "    # Extract the headers (assuming the first row from line 6 contains headers)\n",
    "    headers = lines[5].strip().split()\n",
    "    \n",
    "    # Extract the data starting from line 7\n",
    "    data = [line.strip().split() for line in lines[6:]]\n",
    "    \n",
    "    # Create a DataFrame\n",
    "    df = pd.DataFrame(data, columns=headers)\n",
    "\n",
    "    df = df.astype(float)\n",
    "\n",
    "    return df\n",
    "\n",
    "\n",
    "# load data from sample directory\n",
    "data_path = 'test_data/IdealResonator_CAP.csv'\n",
    "\n",
    "df = preprocess_csv(data_path)\n",
    "# print(df)\n",
    "freq = df['!Freq'].to_numpy()\n",
    "amps_dB = df['DBS21'].to_numpy()\n",
    "phases = np.unwrap(np.deg2rad(df['AngS21'].to_numpy()))\n",
    "print(freq)\n",
    "print(amps_dB)\n",
    "print(phases)\n",
    "cmplx = amps_dB * np.exp(1j*phases)\n",
    "print(freq, \"\\n\", cmplx)"
   ]
  },
  {
   "cell_type": "markdown",
   "metadata": {},
   "source": [
    "## Testing scresonators"
   ]
  },
  {
   "cell_type": "code",
   "execution_count": 3,
   "metadata": {},
   "outputs": [
    {
     "name": "stdout",
     "output_type": "stream",
     "text": [
      "c:\\Users\\zachm\\OneDrive\\Documents\\GitHub\\zachmiles9\\scresonators\\test\n",
      "\n",
      "imported scresonators!\n",
      "\n",
      "showing dir(src.fit_methods.dcm)\n"
     ]
    },
    {
     "data": {
      "text/plain": [
       "['DCM', 'FitMethod', 'find_circle', 'lmfit', 'np']"
      ]
     },
     "metadata": {},
     "output_type": "display_data"
    },
    {
     "name": "stdout",
     "output_type": "stream",
     "text": [
      "showing dir(src.fit_methods.dcm.DCM)\n"
     ]
    },
    {
     "data": {
      "text/plain": [
       "['_abc_impl', 'create_model', 'find_initial_guess', 'func']"
      ]
     },
     "metadata": {},
     "output_type": "display_data"
    },
    {
     "name": "stderr",
     "output_type": "stream",
     "text": [
      "WARNING:root:Data does not fully cover a circle. Coverage: 0.6 rad.\n"
     ]
    },
    {
     "name": "stdout",
     "output_type": "stream",
     "text": [
      "Name     Value      Min      Max   Stderr     Vary     Expr Brute_Step\n",
      "Q       1e+06     1000    1e+09     None     True     None     None\n",
      "Qc      1e+05     1000    1e+09     None     True     None     None\n",
      "phi      0.08   -1.571    1.571     None     True     None     None\n",
      "w1         20    -2980     3020     None     True     None     None\n",
      "\n"
     ]
    },
    {
     "name": "stderr",
     "output_type": "stream",
     "text": [
      "WARNING:root:Data does not fully cover a circle. Coverage: 0.6 rad.\n",
      "WARNING:root:Data does not fully cover a circle. Coverage: 0.6 rad.\n",
      "WARNING:root:Data does not fully cover a circle. Coverage: 0.6 rad.\n",
      "WARNING:root:Data does not fully cover a circle. Coverage: 0.7 rad.\n",
      "WARNING:root:Data does not fully cover a circle. Coverage: 0.8 rad.\n",
      "WARNING:root:Delay could not be fit properly!\n",
      "WARNING:root:Data does not fully cover a circle. Coverage: 1.2 rad.\n"
     ]
    },
    {
     "name": "stdout",
     "output_type": "stream",
     "text": [
      "[[Model]]\n",
      "    Model(func)\n",
      "[[Fit Statistics]]\n",
      "    # fitting method   = leastsq\n",
      "    # function evals   = 68\n",
      "    # data points      = 16002\n",
      "    # variables        = 4\n",
      "    chi-square         = 296.925718\n",
      "    reduced chi-square = 0.01856018\n",
      "    Akaike info crit   = -63791.7659\n",
      "    Bayesian info crit = -63761.0440\n",
      "    R-squared          = (0.2482163575917845+1.8598931524930724j)\n",
      "[[Variables]]\n",
      "    Q:    9.1610e+08 +/- 5.5229e+14 (60287378.18%) (init = 1000000)\n",
      "    Qc:   71740950.7 +/- 8.0068e+10 (111606.64%) (init = 100000)\n",
      "    w1:   19.3219943 +/- 0.00120982 (0.01%) (init = 20)\n",
      "    phi:  1.15716935 +/- 1115.91646 (96435.02%) (init = 0.08)\n",
      "[[Correlations]] (unreported correlations are < 0.100)\n",
      "    C(Qc, w1) = -1.0000\n",
      "    C(Q, phi) = +0.9999\n",
      "        99.73%    95.45%    68.27%    _BEST_    68.27%    95.45%    99.73%\n",
      " Q  :      -inf      -inf      -inf916102774.11596      +inf      +inf      +inf\n",
      " Qc :      -inf      -inf      -inf71740950.73245      +inf      +inf      +inf\n",
      " w1 :      -inf      -inf      -inf  19.32199      +inf      +inf      +inf\n",
      " phi:      -inf      -inf      -inf   1.15717      +inf      +inf      +inf\n"
     ]
    },
    {
     "name": "stderr",
     "output_type": "stream",
     "text": [
      "c:\\Users\\zachm\\miniforge3\\envs\\scres2\\lib\\site-packages\\lmfit\\confidence.py:330: UserWarning: rel_change=0.0 < 1e-05 at iteration 1 and prob(Q=732882219.2927644) = 0.0 < max(sigmas)\n",
      "  warn(errmsg)\n",
      "c:\\Users\\zachm\\miniforge3\\envs\\scres2\\lib\\site-packages\\lmfit\\confidence.py:317: UserWarning: Bound reached with prob(Q=1000000000.0) = 0.0 < max(sigmas)\n",
      "  warn(errmsg)\n",
      "c:\\Users\\zachm\\miniforge3\\envs\\scres2\\lib\\site-packages\\lmfit\\confidence.py:330: UserWarning: rel_change=0.0 < 1e-05 at iteration 1 and prob(Qc=57392760.58596213) = 0.0 < max(sigmas)\n",
      "  warn(errmsg)\n",
      "c:\\Users\\zachm\\miniforge3\\envs\\scres2\\lib\\site-packages\\lmfit\\confidence.py:330: UserWarning: rel_change=0.0 < 1e-05 at iteration 1 and prob(Qc=86089140.87894319) = 0.0 < max(sigmas)\n",
      "  warn(errmsg)\n",
      "c:\\Users\\zachm\\miniforge3\\envs\\scres2\\lib\\site-packages\\lmfit\\confidence.py:330: UserWarning: rel_change=0.0 < 1e-05 at iteration 1 and prob(w1=19.32078448120076) = 0.0 < max(sigmas)\n",
      "  warn(errmsg)\n",
      "c:\\Users\\zachm\\miniforge3\\envs\\scres2\\lib\\site-packages\\lmfit\\confidence.py:330: UserWarning: rel_change=0.0 < 1e-05 at iteration 1 and prob(w1=19.32320412648248) = 0.0 < max(sigmas)\n",
      "  warn(errmsg)\n",
      "c:\\Users\\zachm\\miniforge3\\envs\\scres2\\lib\\site-packages\\lmfit\\confidence.py:330: UserWarning: rel_change=0.0 < 1e-05 at iteration 1 and prob(phi=0.925735479089813) = 0.0 < max(sigmas)\n",
      "  warn(errmsg)\n",
      "c:\\Users\\zachm\\miniforge3\\envs\\scres2\\lib\\site-packages\\lmfit\\confidence.py:330: UserWarning: rel_change=0.0 < 1e-05 at iteration 1 and prob(phi=1.3886032186347195) = 0.0 < max(sigmas)\n",
      "  warn(errmsg)\n"
     ]
    }
   ],
   "source": [
    "cur_dir = os.getcwd()\n",
    "parent_parent_dir = os.path.dirname(os.path.dirname(cur_dir))\n",
    "\n",
    "#For Zach\n",
    "# this notebook is located in C:/Users/zachm/OneDrive/Documents/GitHub/zachmiles9/scresonators/test\n",
    "# so the parent's parent directory is C:/Users/zachm/OneDrive/Documents/GitHub/zachmiles9\n",
    "# and by adding that to our path, we can import C:/Users/zachm/OneDrive/Documents/GitHub/zachmiles9\n",
    "\n",
    "#For Jorge\n",
    "# this notebook is located in E:/GitHub/scresonators/test_ontebooks\n",
    "# so the parent's parent directory is just E:/GitHub\n",
    "# and by adding that to our path, we can import E:/GitHub/scresonators\n",
    "sys.path.append(parent_parent_dir)\n",
    "print(os.getcwd())\n",
    "\n",
    "import scresonators.src as scres\n",
    "print(\"\\nimported scresonators!\\n\")\n",
    "\n",
    "\n",
    "def print_dir(module, filter_underscore=True, text=\"\"):\n",
    "    if filter_underscore == True:\n",
    "        print(\"showing dir({})\".format(text))\n",
    "        display( [i for i in dir(module) if '__' not in i] )\n",
    "    else:\n",
    "        print(\"showing dir({})\".format(text))\n",
    "        display( dir(module) )\n",
    "\n",
    "\n",
    "print_dir(scres.fit_methods.dcm, True, \"src.fit_methods.dcm\")\n",
    "print_dir(scres.fit_methods.dcm.DCM, True, \"src.fit_methods.dcm.DCM\")\n",
    "\n",
    "dcm_method = scres.fit_methods.dcm.DCM()\n",
    "FitRes = scres.Fitter(dcm_method)\n",
    "\n",
    "w1 = freq[np.abs(cmplx).argmin()]\n",
    "init_guess = {\n",
    "    'Q' : {'value' : 1e6, 'min' : 1e3, 'max' : 1e9},\n",
    "    'Qc' : {'value' : 1e5, 'min' : 1e3, 'max' : 1e9},\n",
    "    'w1' : {'value' : w1, 'min' : w1-3e3, 'max' : w1+3e3, 'vary' : True},\n",
    "    'phi' : {'value' : 0.08, 'min' : -np.pi/2, 'max' : np.pi/2}, \n",
    "}\n",
    "\n",
    "init_params = lmfit.create_params(**init_guess)\n",
    "init_params.pretty_print()\n",
    "print()\n",
    "\n",
    "amps = np.abs(cmplx)\n",
    "db_amps = np.log10(amps) * 20\n",
    "\n",
    "phases = np.angle(cmplx)\n",
    "result, conf_intervals = FitRes.fit(freq, db_amps, phases, manual_init=init_params, verbose=True)\n",
    "\n",
    "fit_result_params = result.params\n"
   ]
  },
  {
   "cell_type": "code",
   "execution_count": 4,
   "metadata": {},
   "outputs": [
    {
     "name": "stdout",
     "output_type": "stream",
     "text": [
      "Name     Value      Min      Max   Stderr     Vary     Expr Brute_Step\n",
      "Q    9.161e+08     1000    1e+09 5.523e+14     True     None     None\n",
      "Qc   7.174e+07     1000    1e+09 8.007e+10     True     None     None\n",
      "phi     1.157   -1.571    1.571     1116     True     None     None\n",
      "w1      19.32    -2980     3020  0.00121     True     None     None\n",
      "60287378.18276741 916102774.1159556 552294343974109.7\n",
      "\n",
      "abs(data):  [87.335502 87.326395 87.317292 ... 59.525629 59.524005 59.522381]\n",
      "abs(result):  [1.00000001 1.00000001 1.00000001 ... 0.99999982 0.99999982 0.99999982]\n"
     ]
    },
    {
     "data": {
      "image/png": "[encoded data removed]",
      "text/plain": [
       "<Figure size 700x800 with 3 Axes>"
      ]
     },
     "metadata": {},
     "output_type": "display_data"
    }
   ],
   "source": [
    "fit_result_params.pretty_print()\n",
    "\n",
    "y_fit = result.eval(params=fit_result_params, x=freq)\n",
    "# y_fit_err = result.eval_uncertainty()\n",
    "Q_val = fit_result_params[\"Q\"].value\n",
    "Q_err = fit_result_params[\"Q\"].stderr\n",
    "dQ = 100 * Q_err/Q_val\n",
    "print(dQ, Q_val, Q_err)\n",
    "\n",
    "print(\"\\nabs(data): \", np.abs(cmplx))\n",
    "print(\"abs(result): \", np.abs(y_fit))\n",
    "\n",
    "##########################################\n",
    "#############    plotting   ##############\n",
    "##########################################\n",
    "\n",
    "mosaic = \"AAAA\\n BBCC\"\n",
    "fig, axes = plt.subplot_mosaic(mosaic, figsize=(7,8))\n",
    "ax1, ax2, ax3 = axes[\"A\"], axes[\"B\"], axes[\"C\"]\n",
    "\n",
    "ax1.plot(freq, np.abs(cmplx), label=\"Data\")\n",
    "ax1.plot(freq, np.abs(y_fit), label=\"Fit\")\n",
    "ax1.set_yscale(\"log\")\n",
    "ax1.legend()\n",
    "ax1.set_title(\"S21 Magnitude\")\n",
    "\n",
    "ax2.plot(np.real(cmplx), np.imag(cmplx), label=\"Data\", linestyle='', marker='o')\n",
    "ax2.set_title(\"Data\")\n",
    "\n",
    "ax3.plot(np.real(y_fit), np.imag(y_fit), label=\"Fit\", linestyle='', marker='o', color='orange')\n",
    "ax3.set_title(\"Fit Result\")\n",
    "\n",
    "\n",
    "fig.tight_layout()"
   ]
  },
  {
   "cell_type": "markdown",
   "metadata": {},
   "source": [
    "## Multiple Resonators\n",
    "\n",
    "to be implemented"
   ]
  },
  {
   "cell_type": "code",
   "execution_count": 5,
   "metadata": {},
   "outputs": [],
   "source": [
    "# # load data from Andre\n",
    "# data_dir = './samples/R0_Jorge/'\n",
    "# chosen_files = '*'\n",
    "\n",
    "# freq_dict, cmplx_dict = load_csv(data_dir, chosen_files, idx=None)\n",
    "\n",
    "# dQ_list, Q_list = [], []\n",
    "\n",
    "# print(f\"# of resonators: {len(freq_dict)}\")\n",
    "\n",
    "# for freq, cmplx in zip(freq_dict.values(), cmplx_dict.values()):\n",
    "\n",
    "#     FitRes = scres.Fitter(scres.fit_methods.DCM)\n",
    "\n",
    "#     w1 = freq[np.abs(cmplx).argmin()]\n",
    "#     init_guess = {\n",
    "#         'Q' : {'value' : 1e6, 'min' : 1e3, 'max' : 1e9},\n",
    "#         'Qc' : {'value' : 1e5, 'min' : 1e3, 'max' : 1e9},\n",
    "#         'w1' : {'value' : w1, 'min' : w1-3e3, 'max' : w1+3e3, 'vary' : True},\n",
    "#         'phi' : {'value' : 0.08, 'min' : -np.pi/2, 'max' : np.pi/2}, \n",
    "#     }\n",
    "\n",
    "#     init_params = lmfit.create_params(**init_guess)\n",
    "\n",
    "#     amps = np.abs(cmplx)\n",
    "#     db_amps = np.log10(amps) * 20\n",
    "\n",
    "#     phases = np.angle(cmplx)\n",
    "#     result, conf_intervals = FitRes.fit(freq, db_amps, phases, manual_init=init_params, verbose=True)\n",
    "\n",
    "#     fit_params = result.params\n",
    "        \n",
    "#     y_fit = result.eval(params=fit_params, x=freq)\n",
    "#     # y_fit_err = result.eval_uncertainty()\n",
    "#     Q_val = fit_params[\"Q\"].value\n",
    "#     Q_err = fit_params[\"Q\"].stderr\n",
    "#     dQ = 100 * Q_err/Q_val\n",
    "#     print(dQ, Q_val, Q_err)\n",
    "    \n",
    "#     dQ_list.append(dQ)\n",
    "#     Q_list.append(Q_val)\n",
    "\n",
    "\n",
    "    "
   ]
  },
  {
   "cell_type": "code",
   "execution_count": 6,
   "metadata": {},
   "outputs": [],
   "source": [
    "# for dQ, Q in zip(dQ_list, Q_list):\n",
    "    \n",
    "#     print(f\"{dQ:1.2f}, {Q:1.2f}\")\n",
    "\n",
    "# fig, axes = plt.subplots(2,1, figsize=(7,8), sharex=True)\n",
    "# ax1, ax2 = axes[0], axes[1]\n",
    "\n",
    "# ax1.plot(dQ_list, 'ro', label=\"dQ\")\n",
    "# ax1.set_title(r\"dQ Values  ($dQ=100 * dQ/\\sigma dQ$)\")\n",
    "\n",
    "# ax2.plot(Q_list, 'bo', label=\"Fit\")\n",
    "# ax2.set_title(\"Q Values\")\n",
    "\n",
    "# ax2.set_xlabel(\"Resonator #\")"
   ]
  }
 ],
 "metadata": {
  "kernelspec": {
   "display_name": "dynamic_fitting",
   "language": "python",
   "name": "python3"
  },
  "language_info": {
   "codemirror_mode": {
    "name": "ipython",
    "version": 3
   },
   "file_extension": ".py",
   "mimetype": "text/x-python",
   "name": "python",
   "nbconvert_exporter": "python",
   "pygments_lexer": "ipython3",
   "version": "3.9.19"
  }
 },
 "nbformat": 4,
 "nbformat_minor": 2
}
