{
 "cells": [
  {
   "cell_type": "code",
   "execution_count": 1,
   "metadata": {},
   "outputs": [],
   "source": [
    "import os\n",
    "import sys\n",
    "import matplotlib.pyplot as plt\n",
    "import numpy as np\n",
    "import pandas as pd\n",
    "import glob\n",
    "import lmfit\n",
    "\n",
    "# from bcqt-ctrl repo\n",
    "# import helper_functions as hf\n",
    "\n",
    "from pathlib import Path\n",
    "from time import sleep, time\n",
    "# from tqdm.auto import tqdm\n",
    "\n",
    "%load_ext autoreload\n",
    "%autoreload 2"
   ]
  },
  {
   "cell_type": "code",
   "execution_count": 2,
   "metadata": {},
   "outputs": [
    {
     "name": "stdout",
     "output_type": "stream",
     "text": [
      "[5.85995747e+09 5.86000796e+09 5.86001176e+09 5.86001340e+09\n",
      " 5.86001451e+09 5.86001549e+09 5.86001660e+09 5.86001824e+09\n",
      " 5.86002204e+09 5.86007253e+09] \n",
      " 0   -0.007584-0.002081j\n",
      "1   -0.008071-0.000061j\n",
      "2   -0.006975+0.001866j\n",
      "3   -0.004853+0.002437j\n",
      "4   -0.003053+0.001460j\n",
      "5   -0.002346-0.000217j\n",
      "6   -0.002734-0.001863j\n",
      "7   -0.003925-0.002980j\n",
      "8   -0.005551-0.003269j\n",
      "9   -0.007191-0.002524j\n",
      "Name: dBm, dtype: complex128\n"
     ]
    }
   ],
   "source": [
    "# only S21 dBm has factor of 20, otherwise it'd be a factor of 10\n",
    "# this is because P = V^2/R, so the V^2 gives an extra factor of 2\n",
    "\n",
    "def s21_dbm_to_lin(dbm_ampl):\n",
    "    return np.log10(dbm_ampl) * 20  \n",
    "\n",
    "def s21_lin_to_dbm(lin_ampl):\n",
    "    return 10**(lin_ampl/20)\n",
    "\n",
    "def load_all_csvs_in_path(path, key='*', idx=None):\n",
    "    \"\"\"AI is creating summary for load_all_csvs_in_path\n",
    "\n",
    "    Args:\n",
    "        path ([type]): [description]\n",
    "        key (str, optional): [description]. Defaults to '*'.\n",
    "        idx ([type], optional): [description]. Defaults to None.\n",
    "\n",
    "    Returns:\n",
    "        [type]: [description]\n",
    "    \"\"\"\n",
    "    data_files = glob.glob(data_dir+key)\n",
    "    \n",
    "    if idx is not None:  # user wants to load a single file from dir\n",
    "        idx = 0 if len(data_files) == 1 else idx  # set idx to 0 if there's only one file\n",
    "        file = data_files[idx]\n",
    "        df = pd.read_csv(file, sep=\",\", names=['Frequency','dBm','Phase'])\n",
    "        freq = np.array(df['Frequency'])\n",
    "        ampl = s21_lin_to_dbm(df['dBm'])\n",
    "        phase = np.unwrap(np.deg2rad(df['Phase']))\n",
    "        cmplx = ampl * np.exp(1j*phase)\n",
    "        \n",
    "        return freq, cmplx, df\n",
    "    \n",
    "    elif idx is None and len(data_files) != 1:  \n",
    "        freq_dict, cmplx_dict, df_dict = {}, {}, {}\n",
    "        for filepath in data_files:\n",
    "            filename = os.path.basename(filepath)\n",
    "            df = pd.read_csv(filepath, sep=\",\", names=['Frequency','dBm','Phase'])\n",
    "            freq = np.array(df['Frequency'])\n",
    "            ampl = s21_lin_to_dbm(df['dBm'])\n",
    "            phase = np.unwrap(np.deg2rad(df['Phase']))\n",
    "            cmplx = ampl * np.exp(1j*phase)\n",
    "            \n",
    "            freq_dict[filename] = freq\n",
    "            cmplx_dict[filename] = cmplx\n",
    "            df_dict[filename] = df\n",
    "            \n",
    "        return freq_dict, cmplx_dict, df_dict\n",
    "        \n",
    "    else:\n",
    "        # idx is None and len(data_files) == 1\n",
    "        print(f\"idx={idx}, len(data_files)={len(data_files)}\\n failed if & elif\")\n",
    "        raise\n",
    "        \n",
    "\n",
    "# load data from sample directory\n",
    "data_dir = 'test_data/R0_Jorge/R0_Jorge/'\n",
    "chosen_files = '*'\n",
    "# display(glob.glob(data_dir+chosen_files))\n",
    "freq, cmplx, df = load_all_csvs_in_path(data_dir, chosen_files, idx=1)\n",
    "## cmplx is complex s21 data\n",
    "print(freq, \"\\n\", cmplx)\n"
   ]
  },
  {
   "cell_type": "markdown",
   "metadata": {},
   "source": [
    "## Testing scresonators"
   ]
  },
  {
   "cell_type": "code",
   "execution_count": 7,
   "metadata": {},
   "outputs": [
    {
     "name": "stdout",
     "output_type": "stream",
     "text": [
      "c:\\Users\\zachm\\OneDrive\\Documents\\GitHub\\zachmiles9\\scresonators\\test\n",
      "\n",
      "imported scresonators!\n",
      "\n",
      "showing dir(src.fit_methods.dcm)\n"
     ]
    },
    {
     "data": {
      "text/plain": [
       "['DCM', 'FitMethod', 'find_circle', 'lmfit', 'np']"
      ]
     },
     "metadata": {},
     "output_type": "display_data"
    },
    {
     "name": "stdout",
     "output_type": "stream",
     "text": [
      "showing dir(src.fit_methods.dcm.DCM)\n"
     ]
    },
    {
     "data": {
      "text/plain": [
       "['_abc_impl', 'create_model', 'find_initial_guess', 'func']"
      ]
     },
     "metadata": {},
     "output_type": "display_data"
    },
    {
     "name": "stderr",
     "output_type": "stream",
     "text": [
      "WARNING:root:Delay could not be fit properly!\n"
     ]
    },
    {
     "name": "stdout",
     "output_type": "stream",
     "text": [
      "Name     Value      Min      Max   Stderr     Vary     Expr Brute_Step\n",
      "Q       1e+06     1000    1e+09     None     True     None     None\n",
      "Qc      1e+05     1000    1e+09     None     True     None     None\n",
      "phi      0.08   -1.571    1.571     None     True     None     None\n",
      "w1   5.86e+09 5.86e+09 5.86e+09     None     True     None     None\n",
      "\n",
      "[[Model]]\n",
      "    Model(func)\n",
      "[[Fit Statistics]]\n",
      "    # fitting method   = leastsq\n",
      "    # function evals   = 72\n",
      "    # data points      = 20\n",
      "    # variables        = 4\n",
      "    chi-square         = 2.13005223\n",
      "    reduced chi-square = 0.13312826\n",
      "    Akaike info crit   = -36.7917155\n",
      "    Bayesian info crit = -32.8087864\n",
      "    R-squared          = (-7.706438023151746-0.21502087969414949j)\n",
      "[[Variables]]\n",
      "    Q:    1129617.28 +/- 462563.768 (40.95%) (init = 1000000)\n",
      "    Qc:   1062367.58 +/- 353079.643 (33.24%) (init = 100000)\n",
      "    w1:   5.8600e+09 +/- 1334.36622 (0.00%) (init = 5.860015e+09)\n",
      "    phi:  1.26563575 +/- 0.33229041 (26.25%) (init = 0.08)\n",
      "[[Correlations]] (unreported correlations are < 0.100)\n",
      "    C(w1, phi) = -0.8113\n",
      "    C(Q, Qc)   = +0.8112\n",
      "    C(Qc, w1)  = +0.2212\n",
      "    C(Q, phi)  = +0.2210\n"
     ]
    },
    {
     "name": "stderr",
     "output_type": "stream",
     "text": [
      "c:\\Users\\zachm\\miniforge3\\envs\\scres2\\lib\\site-packages\\lmfit\\confidence.py:317: UserWarning: Bound reached with prob(Q=1000.0) = 0.9930736227233877 < max(sigmas)\n",
      "  warn(errmsg)\n",
      "c:\\Users\\zachm\\miniforge3\\envs\\scres2\\lib\\site-packages\\lmfit\\confidence.py:317: UserWarning: Bound reached with prob(w1=5860012491.0) = 0.0 < max(sigmas)\n",
      "  warn(errmsg)\n",
      "c:\\Users\\zachm\\miniforge3\\envs\\scres2\\lib\\site-packages\\lmfit\\confidence.py:330: UserWarning: rel_change=-0.002638490910486017 < 1e-05 at iteration 4 and prob(w1=5860017828.464871) = 0.9930689935375343 < max(sigmas)\n",
      "  warn(errmsg)\n",
      "c:\\Users\\zachm\\miniforge3\\envs\\scres2\\lib\\site-packages\\lmfit\\confidence.py:317: UserWarning: Bound reached with prob(phi=1.5707963267948966) = 0.8896534492916129 < max(sigmas)\n",
      "  warn(errmsg)\n"
     ]
    },
    {
     "name": "stdout",
     "output_type": "stream",
     "text": [
      "        99.73%    95.45%    68.27%    _BEST_    68.27%    95.45%    99.73%\n",
      " Q  :      -inf-708816.03165-246249.368481129617.27584+539796.07685+1426900.32694+4807375.59083\n",
      " Qc :-1060997.65636-553906.48091-166355.767121062367.57897+416052.86378+1235093.55328+4083127.20442\n",
      " w1 :      -inf      -inf      -inf5860012491.00000+464.45025+2319.25439      +inf\n",
      " phi:  -1.25647  -0.65310  -0.24573   1.26564  +0.18592      +inf      +inf\n",
      "<class 'lmfit.model.ModelResult'>\n"
     ]
    }
   ],
   "source": [
    "cur_dir = os.getcwd()\n",
    "parent_parent_dir = os.path.dirname(os.path.dirname(cur_dir))\n",
    "\n",
    "#For Zach\n",
    "# this notebook is located in C:/Users/zachm/OneDrive/Documents/GitHub/zachmiles9/scresonators/test\n",
    "# so the parent's parent directory is C:/Users/zachm/OneDrive/Documents/GitHub/zachmiles9\n",
    "# and by adding that to our path, we can import C:/Users/zachm/OneDrive/Documents/GitHub/zachmiles9\n",
    "\n",
    "#For Jorge\n",
    "# this notebook is located in E:/GitHub/scresonators/test_ontebooks\n",
    "# so the parent's parent directory is just E:/GitHub\n",
    "# and by adding that to our path, we can import E:/GitHub/scresonators\n",
    "sys.path.append(parent_parent_dir)\n",
    "print(os.getcwd())\n",
    "\n",
    "import scresonators.src as scres\n",
    "print(\"\\nimported scresonators!\\n\")\n",
    "\n",
    "\n",
    "def print_dir(module, filter_underscore=True, text=\"\"):\n",
    "    if filter_underscore == True:\n",
    "        print(\"showing dir({})\".format(text))\n",
    "        display( [i for i in dir(module) if '__' not in i] ) ## Display a list of modules if a dunder (double underscore) method like \"__init__\" is not included in the directory of the module?\n",
    "    else:\n",
    "        print(\"showing dir({})\".format(text))\n",
    "        display( dir(module) )\n",
    "\n",
    "\n",
    "print_dir(scres.fit_methods.dcm, True, \"src.fit_methods.dcm\")\n",
    "print_dir(scres.fit_methods.dcm.DCM, True, \"src.fit_methods.dcm.DCM\")\n",
    "\n",
    "dcm_method = scres.fit_methods.dcm.DCM() ## Making an instance of DCM class. \n",
    "FitRes = scres.Fitter(dcm_method) ## Making instance of Fitter class.\n",
    "\n",
    "w1 = freq[np.abs(cmplx).argmin()] \n",
    "init_guess = {\n",
    "    'Q' : {'value' : 1e6, 'min' : 1e3, 'max' : 1e9},\n",
    "    'Qc' : {'value' : 1e5, 'min' : 1e3, 'max' : 1e9},\n",
    "    'w1' : {'value' : w1, 'min' : w1-3e3, 'max' : w1+3e3, 'vary' : True},\n",
    "    'phi' : {'value' : 0.08, 'min' : -np.pi/2, 'max' : np.pi/2}, \n",
    "}\n",
    "\n",
    "init_params = lmfit.create_params(**init_guess) # supplying each key and their values as kwargs\n",
    "# * is for a list, ** is for a dictionary. These are unpacking operators. \n",
    "init_params.pretty_print() # method of params instance. params consists of parameter objects. This is the thing underneath where it says WARNING:root...\n",
    "print() ## == print(\"\\n\") \n",
    "\n",
    "# underneath this table of parameters, we see stuff from 'verbose = True' starting with [[Model]]\n",
    "\n",
    "amps = np.abs(cmplx)\n",
    "db_amps = np.log10(amps) * 20\n",
    "\n",
    "phases = np.angle(cmplx)\n",
    "result, conf_intervals = FitRes.fit(freq, db_amps, phases, manual_init=init_params, verbose=True) ## set verbose=True if you want extra outputs including statistics\n",
    "\n",
    "print(type(result))\n",
    "fit_result_params = result.params\n"
   ]
  },
  {
   "cell_type": "code",
   "execution_count": 4,
   "metadata": {},
   "outputs": [
    {
     "name": "stdout",
     "output_type": "stream",
     "text": [
      "Name     Value      Min      Max   Stderr     Vary     Expr Brute_Step\n",
      "Q    1.13e+06     1000    1e+09 4.626e+05     True     None     None\n",
      "Qc   1.062e+06     1000    1e+09 3.531e+05     True     None     None\n",
      "phi     1.266   -1.571    1.571   0.3323     True     None     None\n",
      "w1   5.86e+09 5.86e+09 5.86e+09     1334     True     None     None\n",
      "40.948715832764464 1129617.2758436406 462563.76828302746\n",
      "\n",
      "abs(data):  0    0.007865\n",
      "1    0.008072\n",
      "2    0.007220\n",
      "3    0.005431\n",
      "4    0.003384\n",
      "5    0.002356\n",
      "6    0.003309\n",
      "7    0.004928\n",
      "8    0.006442\n",
      "9    0.007621\n",
      "Name: dBm, dtype: float64\n",
      "abs(result):  [1.04713762 1.41281434 1.40911557 0.89602926 0.56854592 0.45473891\n",
      " 0.47369928 0.56820678 0.72155438 0.95574673]\n"
     ]
    },
    {
     "data": {
      "image/png": "[encoded data removed]",
      "text/plain": [
       "<Figure size 700x800 with 3 Axes>"
      ]
     },
     "metadata": {},
     "output_type": "display_data"
    }
   ],
   "source": [
    "fit_result_params.pretty_print()\n",
    "\n",
    "y_fit = result.eval(params=fit_result_params, x=freq)\n",
    "# y_fit_err = result.eval_uncertainty()\n",
    "Q_val = fit_result_params[\"Q\"].value\n",
    "Q_err = fit_result_params[\"Q\"].stderr\n",
    "dQ = 100 * Q_err/Q_val\n",
    "print(dQ, Q_val, Q_err)\n",
    "\n",
    "print(\"\\nabs(data): \", np.abs(cmplx))\n",
    "print(\"abs(result): \", np.abs(y_fit))\n",
    "\n",
    "##########################################\n",
    "#############    plotting   ##############\n",
    "##########################################\n",
    "\n",
    "mosaic = \"AAAA\\n BBCC\"\n",
    "fig, axes = plt.subplot_mosaic(mosaic, figsize=(7,8))\n",
    "ax1, ax2, ax3 = axes[\"A\"], axes[\"B\"], axes[\"C\"]\n",
    "ax2.sharex(ax3)\n",
    "ax2.sharey(ax3)\n",
    "\n",
    "ax1.plot(freq, np.abs(cmplx), label=\"Data\")\n",
    "ax1.plot(freq, np.abs(y_fit), label=\"Fit\")\n",
    "ax1.set_yscale(\"log\")\n",
    "ax1.legend()\n",
    "ax1.set_title(\"S21 Magnitude\")\n",
    "\n",
    "ax2.plot(np.real(cmplx), np.imag(cmplx), label=\"Data\", linestyle='', marker='o')\n",
    "ax2.set_title(\"Data\")\n",
    "\n",
    "ax3.plot(np.real(y_fit), np.imag(y_fit), label=\"Fit\", linestyle='', marker='o', color='orange')\n",
    "ax3.set_title(\"Fit Result\")\n",
    "\n",
    "\n",
    "fig.tight_layout()"
   ]
  },
  {
   "cell_type": "markdown",
   "metadata": {},
   "source": [
    "## Multiple Resonators\n",
    "\n",
    "to be implemented"
   ]
  },
  {
   "cell_type": "code",
   "execution_count": 5,
   "metadata": {},
   "outputs": [],
   "source": [
    "# # load data from Andre\n",
    "# data_dir = './samples/R0_Jorge/'\n",
    "# chosen_files = '*'\n",
    "\n",
    "# freq_dict, cmplx_dict = load_csv(data_dir, chosen_files, idx=None)\n",
    "\n",
    "# dQ_list, Q_list = [], []\n",
    "\n",
    "# print(f\"# of resonators: {len(freq_dict)}\")\n",
    "\n",
    "# for freq, cmplx in zip(freq_dict.values(), cmplx_dict.values()):\n",
    "\n",
    "#     FitRes = scres.Fitter(scres.fit_methods.DCM)\n",
    "\n",
    "#     w1 = freq[np.abs(cmplx).argmin()]\n",
    "#     init_guess = {\n",
    "#         'Q' : {'value' : 1e6, 'min' : 1e3, 'max' : 1e9},\n",
    "#         'Qc' : {'value' : 1e5, 'min' : 1e3, 'max' : 1e9},\n",
    "#         'w1' : {'value' : w1, 'min' : w1-3e3, 'max' : w1+3e3, 'vary' : True},\n",
    "#         'phi' : {'value' : 0.08, 'min' : -np.pi/2, 'max' : np.pi/2}, \n",
    "#     }\n",
    "\n",
    "#     init_params = lmfit.create_params(**init_guess)\n",
    "\n",
    "#     amps = np.abs(cmplx)\n",
    "#     db_amps = np.log10(amps) * 20\n",
    "\n",
    "#     phases = np.angle(cmplx)\n",
    "#     result, conf_intervals = FitRes.fit(freq, db_amps, phases, manual_init=init_params, verbose=True)\n",
    "\n",
    "#     fit_params = result.params\n",
    "        \n",
    "#     y_fit = result.eval(params=fit_params, x=freq)\n",
    "#     # y_fit_err = result.eval_uncertainty()\n",
    "#     Q_val = fit_params[\"Q\"].value\n",
    "#     Q_err = fit_params[\"Q\"].stderr\n",
    "#     dQ = 100 * Q_err/Q_val\n",
    "#     print(dQ, Q_val, Q_err)\n",
    "    \n",
    "#     dQ_list.append(dQ)\n",
    "#     Q_list.append(Q_val)\n",
    "\n",
    "\n",
    "    "
   ]
  },
  {
   "cell_type": "code",
   "execution_count": 6,
   "metadata": {},
   "outputs": [],
   "source": [
    "# for dQ, Q in zip(dQ_list, Q_list):\n",
    "    \n",
    "#     print(f\"{dQ:1.2f}, {Q:1.2f}\")\n",
    "\n",
    "# fig, axes = plt.subplots(2,1, figsize=(7,8), sharex=True)\n",
    "# ax1, ax2 = axes[0], axes[1]\n",
    "\n",
    "# ax1.plot(dQ_list, 'ro', label=\"dQ\")\n",
    "# ax1.set_title(r\"dQ Values  ($dQ=100 * dQ/\\sigma dQ$)\")\n",
    "\n",
    "# ax2.plot(Q_list, 'bo', label=\"Fit\")\n",
    "# ax2.set_title(\"Q Values\")\n",
    "\n",
    "# ax2.set_xlabel(\"Resonator #\")"
   ]
  }
 ],
 "metadata": {
  "kernelspec": {
   "display_name": "dynamic_fitting",
   "language": "python",
   "name": "python3"
  },
  "language_info": {
   "codemirror_mode": {
    "name": "ipython",
    "version": 3
   },
   "file_extension": ".py",
   "mimetype": "text/x-python",
   "name": "python",
   "nbconvert_exporter": "python",
   "pygments_lexer": "ipython3",
   "version": "3.9.19"
  }
 },
 "nbformat": 4,
 "nbformat_minor": 2
}
