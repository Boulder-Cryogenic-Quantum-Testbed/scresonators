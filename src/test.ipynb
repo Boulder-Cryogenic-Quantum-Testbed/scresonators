{
 "cells": [
  {
   "cell_type": "code",
   "execution_count": 1,
   "metadata": {},
   "outputs": [],
   "source": [
    "from resonator import Resonator\n",
    "from sweeper import Sweeper\n",
    "import glob, os, sys, time\n",
    "import matplotlib.pyplot as plt\n",
    "import numpy as np\n",
    "import scipy as sp\n",
    "import pandas as pd\n",
    "from pathlib import Path\n",
    "import re"
   ]
  },
  {
   "cell_type": "code",
   "execution_count": null,
   "metadata": {},
   "outputs": [],
   "source": [
    "csv_file_path = None # provide a path to .csv file here (in str format)\n",
    "resonator_1 = Resonator(file_path=csv_file_path, preprocess_method='circle', fit_method_name='DCM')\n",
    "\n",
    "# Optional: Change default parameters for preprocessing and fit_method. For example: \n",
    "# resonator_1.initialize_data_processor(normalize_pts=30, preprocess_method='linear') \n",
    "# resonator_1.initialize_fit_method(MC_iteration=10, MC_fix=2)\n",
    "\n",
    "\n",
    "params = resonator_1.fit()\n",
    "display(params)"
   ]
  },
  {
   "cell_type": "code",
   "execution_count": null,
   "metadata": {},
   "outputs": [],
   "source": [
    "directory_name = None # provide a path to .csv file here (in str format)\n",
    "sweeper_1 = Sweeper(directory=directory_name)\n",
    "sweeper_1.power_sweep_fit_drv(plot_fit=True, ds={'QHP' : 1e5, 'nc' : 1e1, 'Fdtls' : 1e-6}, QHP_fix=True, show_plots=True)"
   ]
  },
  {
   "cell_type": "code",
   "execution_count": null,
   "metadata": {},
   "outputs": [],
   "source": []
  }
 ],
 "metadata": {
  "kernelspec": {
   "display_name": "scres",
   "language": "python",
   "name": "python3"
  },
  "language_info": {
   "codemirror_mode": {
    "name": "ipython",
    "version": 3
   },
   "file_extension": ".py",
   "mimetype": "text/x-python",
   "name": "python",
   "nbconvert_exporter": "python",
   "pygments_lexer": "ipython3",
   "version": "3.12.5"
  }
 },
 "nbformat": 4,
 "nbformat_minor": 2
}
